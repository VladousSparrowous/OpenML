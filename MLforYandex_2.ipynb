{
  "nbformat": 4,
  "nbformat_minor": 0,
  "metadata": {
    "colab": {
      "provenance": [],
      "authorship_tag": "ABX9TyOGXWChFJSQro0ppM6BiUlo",
      "include_colab_link": true
    },
    "kernelspec": {
      "name": "python3",
      "display_name": "Python 3"
    },
    "language_info": {
      "name": "python"
    }
  },
  "cells": [
    {
      "cell_type": "markdown",
      "metadata": {
        "id": "view-in-github",
        "colab_type": "text"
      },
      "source": [
        "<a href=\"https://colab.research.google.com/github/VladousSparrowous/OpenML/blob/main/MLforYandex_2.ipynb\" target=\"_parent\"><img src=\"https://colab.research.google.com/assets/colab-badge.svg\" alt=\"Open In Colab\"/></a>"
      ]
    },
    {
      "cell_type": "code",
      "execution_count": null,
      "metadata": {
        "id": "iFQdP9HYV4po"
      },
      "outputs": [],
      "source": [
        "import numpy as np\n",
        "import pandas as pd\n",
        "from typing import Optional, List\n",
        "\n",
        "import sklearn.base\n",
        "\n",
        "seed = 24"
      ]
    },
    {
      "cell_type": "code",
      "source": [
        "data = pd.read_csv('/content/sample_data/ames_iowa.csv')\n",
        "\n",
        "data.sample(5)"
      ],
      "metadata": {
        "colab": {
          "base_uri": "https://localhost:8080/",
          "height": 255
        },
        "id": "oJyClprMqdKb",
        "outputId": "d6334be7-d124-4c44-c452-d3656701130c"
      },
      "execution_count": null,
      "outputs": [
        {
          "output_type": "execute_result",
          "data": {
            "text/plain": [
              "                              MS_SubClass                   MS_Zoning  \\\n",
              "1520             Two_Story_1945_and_Older    Residential_High_Density   \n",
              "117   One_Story_1946_and_Newer_All_Styles     Residential_Low_Density   \n",
              "2001             Two_Story_1945_and_Older  Residential_Medium_Density   \n",
              "1081         One_Story_PUD_1946_and_Newer  Residential_Medium_Density   \n",
              "1234  One_Story_1946_and_Newer_All_Styles     Residential_Low_Density   \n",
              "\n",
              "      Lot_Frontage  Lot_Area Street            Alley           Lot_Shape  \\\n",
              "1520            55      8525   Pave  No_Alley_Access             Regular   \n",
              "117             80      9600   Pave  No_Alley_Access             Regular   \n",
              "2001            60     10800   Pave           Gravel             Regular   \n",
              "1081             0      3940   Pave  No_Alley_Access             Regular   \n",
              "1234             0      7390   Pave  No_Alley_Access  Slightly_Irregular   \n",
              "\n",
              "     Land_Contour Utilities Lot_Config  ...     Fence Misc_Feature Misc_Val  \\\n",
              "1520          Bnk    AllPub     Inside  ...  No_Fence          NaN        0   \n",
              "117           Lvl    AllPub     Inside  ...  No_Fence          NaN        0   \n",
              "2001          Bnk    AllPub     Inside  ...  No_Fence          NaN        0   \n",
              "1081          Lvl    AllPub     Inside  ...  No_Fence          NaN        0   \n",
              "1234          Lvl    AllPub     Inside  ...  No_Fence          NaN        0   \n",
              "\n",
              "     Mo_Sold Year_Sold Sale_Type Sale_Condition Sale_Price  Longitude  \\\n",
              "1520      11      2008       WD         Abnorml     130000 -93.647024   \n",
              "117        4      2010       WD          Normal     142250 -93.626137   \n",
              "2001       7      2007       WD          Normal     159500 -93.608678   \n",
              "1081       5      2008       WD          Normal     219990 -93.640958   \n",
              "1234       7      2008       WD          Normal     135000 -93.617179   \n",
              "\n",
              "       Latitude  \n",
              "1520  42.019272  \n",
              "117   42.046574  \n",
              "2001  42.026089  \n",
              "1081  42.062299  \n",
              "1234  42.042373  \n",
              "\n",
              "[5 rows x 81 columns]"
            ],
            "text/html": [
              "\n",
              "  <div id=\"df-7344f245-dc66-4a18-acd3-ad9e71e9999a\" class=\"colab-df-container\">\n",
              "    <div>\n",
              "<style scoped>\n",
              "    .dataframe tbody tr th:only-of-type {\n",
              "        vertical-align: middle;\n",
              "    }\n",
              "\n",
              "    .dataframe tbody tr th {\n",
              "        vertical-align: top;\n",
              "    }\n",
              "\n",
              "    .dataframe thead th {\n",
              "        text-align: right;\n",
              "    }\n",
              "</style>\n",
              "<table border=\"1\" class=\"dataframe\">\n",
              "  <thead>\n",
              "    <tr style=\"text-align: right;\">\n",
              "      <th></th>\n",
              "      <th>MS_SubClass</th>\n",
              "      <th>MS_Zoning</th>\n",
              "      <th>Lot_Frontage</th>\n",
              "      <th>Lot_Area</th>\n",
              "      <th>Street</th>\n",
              "      <th>Alley</th>\n",
              "      <th>Lot_Shape</th>\n",
              "      <th>Land_Contour</th>\n",
              "      <th>Utilities</th>\n",
              "      <th>Lot_Config</th>\n",
              "      <th>...</th>\n",
              "      <th>Fence</th>\n",
              "      <th>Misc_Feature</th>\n",
              "      <th>Misc_Val</th>\n",
              "      <th>Mo_Sold</th>\n",
              "      <th>Year_Sold</th>\n",
              "      <th>Sale_Type</th>\n",
              "      <th>Sale_Condition</th>\n",
              "      <th>Sale_Price</th>\n",
              "      <th>Longitude</th>\n",
              "      <th>Latitude</th>\n",
              "    </tr>\n",
              "  </thead>\n",
              "  <tbody>\n",
              "    <tr>\n",
              "      <th>1520</th>\n",
              "      <td>Two_Story_1945_and_Older</td>\n",
              "      <td>Residential_High_Density</td>\n",
              "      <td>55</td>\n",
              "      <td>8525</td>\n",
              "      <td>Pave</td>\n",
              "      <td>No_Alley_Access</td>\n",
              "      <td>Regular</td>\n",
              "      <td>Bnk</td>\n",
              "      <td>AllPub</td>\n",
              "      <td>Inside</td>\n",
              "      <td>...</td>\n",
              "      <td>No_Fence</td>\n",
              "      <td>NaN</td>\n",
              "      <td>0</td>\n",
              "      <td>11</td>\n",
              "      <td>2008</td>\n",
              "      <td>WD</td>\n",
              "      <td>Abnorml</td>\n",
              "      <td>130000</td>\n",
              "      <td>-93.647024</td>\n",
              "      <td>42.019272</td>\n",
              "    </tr>\n",
              "    <tr>\n",
              "      <th>117</th>\n",
              "      <td>One_Story_1946_and_Newer_All_Styles</td>\n",
              "      <td>Residential_Low_Density</td>\n",
              "      <td>80</td>\n",
              "      <td>9600</td>\n",
              "      <td>Pave</td>\n",
              "      <td>No_Alley_Access</td>\n",
              "      <td>Regular</td>\n",
              "      <td>Lvl</td>\n",
              "      <td>AllPub</td>\n",
              "      <td>Inside</td>\n",
              "      <td>...</td>\n",
              "      <td>No_Fence</td>\n",
              "      <td>NaN</td>\n",
              "      <td>0</td>\n",
              "      <td>4</td>\n",
              "      <td>2010</td>\n",
              "      <td>WD</td>\n",
              "      <td>Normal</td>\n",
              "      <td>142250</td>\n",
              "      <td>-93.626137</td>\n",
              "      <td>42.046574</td>\n",
              "    </tr>\n",
              "    <tr>\n",
              "      <th>2001</th>\n",
              "      <td>Two_Story_1945_and_Older</td>\n",
              "      <td>Residential_Medium_Density</td>\n",
              "      <td>60</td>\n",
              "      <td>10800</td>\n",
              "      <td>Pave</td>\n",
              "      <td>Gravel</td>\n",
              "      <td>Regular</td>\n",
              "      <td>Bnk</td>\n",
              "      <td>AllPub</td>\n",
              "      <td>Inside</td>\n",
              "      <td>...</td>\n",
              "      <td>No_Fence</td>\n",
              "      <td>NaN</td>\n",
              "      <td>0</td>\n",
              "      <td>7</td>\n",
              "      <td>2007</td>\n",
              "      <td>WD</td>\n",
              "      <td>Normal</td>\n",
              "      <td>159500</td>\n",
              "      <td>-93.608678</td>\n",
              "      <td>42.026089</td>\n",
              "    </tr>\n",
              "    <tr>\n",
              "      <th>1081</th>\n",
              "      <td>One_Story_PUD_1946_and_Newer</td>\n",
              "      <td>Residential_Medium_Density</td>\n",
              "      <td>0</td>\n",
              "      <td>3940</td>\n",
              "      <td>Pave</td>\n",
              "      <td>No_Alley_Access</td>\n",
              "      <td>Regular</td>\n",
              "      <td>Lvl</td>\n",
              "      <td>AllPub</td>\n",
              "      <td>Inside</td>\n",
              "      <td>...</td>\n",
              "      <td>No_Fence</td>\n",
              "      <td>NaN</td>\n",
              "      <td>0</td>\n",
              "      <td>5</td>\n",
              "      <td>2008</td>\n",
              "      <td>WD</td>\n",
              "      <td>Normal</td>\n",
              "      <td>219990</td>\n",
              "      <td>-93.640958</td>\n",
              "      <td>42.062299</td>\n",
              "    </tr>\n",
              "    <tr>\n",
              "      <th>1234</th>\n",
              "      <td>One_Story_1946_and_Newer_All_Styles</td>\n",
              "      <td>Residential_Low_Density</td>\n",
              "      <td>0</td>\n",
              "      <td>7390</td>\n",
              "      <td>Pave</td>\n",
              "      <td>No_Alley_Access</td>\n",
              "      <td>Slightly_Irregular</td>\n",
              "      <td>Lvl</td>\n",
              "      <td>AllPub</td>\n",
              "      <td>Inside</td>\n",
              "      <td>...</td>\n",
              "      <td>No_Fence</td>\n",
              "      <td>NaN</td>\n",
              "      <td>0</td>\n",
              "      <td>7</td>\n",
              "      <td>2008</td>\n",
              "      <td>WD</td>\n",
              "      <td>Normal</td>\n",
              "      <td>135000</td>\n",
              "      <td>-93.617179</td>\n",
              "      <td>42.042373</td>\n",
              "    </tr>\n",
              "  </tbody>\n",
              "</table>\n",
              "<p>5 rows × 81 columns</p>\n",
              "</div>\n",
              "    <div class=\"colab-df-buttons\">\n",
              "\n",
              "  <div class=\"colab-df-container\">\n",
              "    <button class=\"colab-df-convert\" onclick=\"convertToInteractive('df-7344f245-dc66-4a18-acd3-ad9e71e9999a')\"\n",
              "            title=\"Convert this dataframe to an interactive table.\"\n",
              "            style=\"display:none;\">\n",
              "\n",
              "  <svg xmlns=\"http://www.w3.org/2000/svg\" height=\"24px\" viewBox=\"0 -960 960 960\">\n",
              "    <path d=\"M120-120v-720h720v720H120Zm60-500h600v-160H180v160Zm220 220h160v-160H400v160Zm0 220h160v-160H400v160ZM180-400h160v-160H180v160Zm440 0h160v-160H620v160ZM180-180h160v-160H180v160Zm440 0h160v-160H620v160Z\"/>\n",
              "  </svg>\n",
              "    </button>\n",
              "\n",
              "  <style>\n",
              "    .colab-df-container {\n",
              "      display:flex;\n",
              "      gap: 12px;\n",
              "    }\n",
              "\n",
              "    .colab-df-convert {\n",
              "      background-color: #E8F0FE;\n",
              "      border: none;\n",
              "      border-radius: 50%;\n",
              "      cursor: pointer;\n",
              "      display: none;\n",
              "      fill: #1967D2;\n",
              "      height: 32px;\n",
              "      padding: 0 0 0 0;\n",
              "      width: 32px;\n",
              "    }\n",
              "\n",
              "    .colab-df-convert:hover {\n",
              "      background-color: #E2EBFA;\n",
              "      box-shadow: 0px 1px 2px rgba(60, 64, 67, 0.3), 0px 1px 3px 1px rgba(60, 64, 67, 0.15);\n",
              "      fill: #174EA6;\n",
              "    }\n",
              "\n",
              "    .colab-df-buttons div {\n",
              "      margin-bottom: 4px;\n",
              "    }\n",
              "\n",
              "    [theme=dark] .colab-df-convert {\n",
              "      background-color: #3B4455;\n",
              "      fill: #D2E3FC;\n",
              "    }\n",
              "\n",
              "    [theme=dark] .colab-df-convert:hover {\n",
              "      background-color: #434B5C;\n",
              "      box-shadow: 0px 1px 3px 1px rgba(0, 0, 0, 0.15);\n",
              "      filter: drop-shadow(0px 1px 2px rgba(0, 0, 0, 0.3));\n",
              "      fill: #FFFFFF;\n",
              "    }\n",
              "  </style>\n",
              "\n",
              "    <script>\n",
              "      const buttonEl =\n",
              "        document.querySelector('#df-7344f245-dc66-4a18-acd3-ad9e71e9999a button.colab-df-convert');\n",
              "      buttonEl.style.display =\n",
              "        google.colab.kernel.accessAllowed ? 'block' : 'none';\n",
              "\n",
              "      async function convertToInteractive(key) {\n",
              "        const element = document.querySelector('#df-7344f245-dc66-4a18-acd3-ad9e71e9999a');\n",
              "        const dataTable =\n",
              "          await google.colab.kernel.invokeFunction('convertToInteractive',\n",
              "                                                    [key], {});\n",
              "        if (!dataTable) return;\n",
              "\n",
              "        const docLinkHtml = 'Like what you see? Visit the ' +\n",
              "          '<a target=\"_blank\" href=https://colab.research.google.com/notebooks/data_table.ipynb>data table notebook</a>'\n",
              "          + ' to learn more about interactive tables.';\n",
              "        element.innerHTML = '';\n",
              "        dataTable['output_type'] = 'display_data';\n",
              "        await google.colab.output.renderOutput(dataTable, element);\n",
              "        const docLink = document.createElement('div');\n",
              "        docLink.innerHTML = docLinkHtml;\n",
              "        element.appendChild(docLink);\n",
              "      }\n",
              "    </script>\n",
              "  </div>\n",
              "\n",
              "\n",
              "<div id=\"df-e4ac527a-599b-40de-9a07-ae793bfe37e1\">\n",
              "  <button class=\"colab-df-quickchart\" onclick=\"quickchart('df-e4ac527a-599b-40de-9a07-ae793bfe37e1')\"\n",
              "            title=\"Suggest charts\"\n",
              "            style=\"display:none;\">\n",
              "\n",
              "<svg xmlns=\"http://www.w3.org/2000/svg\" height=\"24px\"viewBox=\"0 0 24 24\"\n",
              "     width=\"24px\">\n",
              "    <g>\n",
              "        <path d=\"M19 3H5c-1.1 0-2 .9-2 2v14c0 1.1.9 2 2 2h14c1.1 0 2-.9 2-2V5c0-1.1-.9-2-2-2zM9 17H7v-7h2v7zm4 0h-2V7h2v10zm4 0h-2v-4h2v4z\"/>\n",
              "    </g>\n",
              "</svg>\n",
              "  </button>\n",
              "\n",
              "<style>\n",
              "  .colab-df-quickchart {\n",
              "      --bg-color: #E8F0FE;\n",
              "      --fill-color: #1967D2;\n",
              "      --hover-bg-color: #E2EBFA;\n",
              "      --hover-fill-color: #174EA6;\n",
              "      --disabled-fill-color: #AAA;\n",
              "      --disabled-bg-color: #DDD;\n",
              "  }\n",
              "\n",
              "  [theme=dark] .colab-df-quickchart {\n",
              "      --bg-color: #3B4455;\n",
              "      --fill-color: #D2E3FC;\n",
              "      --hover-bg-color: #434B5C;\n",
              "      --hover-fill-color: #FFFFFF;\n",
              "      --disabled-bg-color: #3B4455;\n",
              "      --disabled-fill-color: #666;\n",
              "  }\n",
              "\n",
              "  .colab-df-quickchart {\n",
              "    background-color: var(--bg-color);\n",
              "    border: none;\n",
              "    border-radius: 50%;\n",
              "    cursor: pointer;\n",
              "    display: none;\n",
              "    fill: var(--fill-color);\n",
              "    height: 32px;\n",
              "    padding: 0;\n",
              "    width: 32px;\n",
              "  }\n",
              "\n",
              "  .colab-df-quickchart:hover {\n",
              "    background-color: var(--hover-bg-color);\n",
              "    box-shadow: 0 1px 2px rgba(60, 64, 67, 0.3), 0 1px 3px 1px rgba(60, 64, 67, 0.15);\n",
              "    fill: var(--button-hover-fill-color);\n",
              "  }\n",
              "\n",
              "  .colab-df-quickchart-complete:disabled,\n",
              "  .colab-df-quickchart-complete:disabled:hover {\n",
              "    background-color: var(--disabled-bg-color);\n",
              "    fill: var(--disabled-fill-color);\n",
              "    box-shadow: none;\n",
              "  }\n",
              "\n",
              "  .colab-df-spinner {\n",
              "    border: 2px solid var(--fill-color);\n",
              "    border-color: transparent;\n",
              "    border-bottom-color: var(--fill-color);\n",
              "    animation:\n",
              "      spin 1s steps(1) infinite;\n",
              "  }\n",
              "\n",
              "  @keyframes spin {\n",
              "    0% {\n",
              "      border-color: transparent;\n",
              "      border-bottom-color: var(--fill-color);\n",
              "      border-left-color: var(--fill-color);\n",
              "    }\n",
              "    20% {\n",
              "      border-color: transparent;\n",
              "      border-left-color: var(--fill-color);\n",
              "      border-top-color: var(--fill-color);\n",
              "    }\n",
              "    30% {\n",
              "      border-color: transparent;\n",
              "      border-left-color: var(--fill-color);\n",
              "      border-top-color: var(--fill-color);\n",
              "      border-right-color: var(--fill-color);\n",
              "    }\n",
              "    40% {\n",
              "      border-color: transparent;\n",
              "      border-right-color: var(--fill-color);\n",
              "      border-top-color: var(--fill-color);\n",
              "    }\n",
              "    60% {\n",
              "      border-color: transparent;\n",
              "      border-right-color: var(--fill-color);\n",
              "    }\n",
              "    80% {\n",
              "      border-color: transparent;\n",
              "      border-right-color: var(--fill-color);\n",
              "      border-bottom-color: var(--fill-color);\n",
              "    }\n",
              "    90% {\n",
              "      border-color: transparent;\n",
              "      border-bottom-color: var(--fill-color);\n",
              "    }\n",
              "  }\n",
              "</style>\n",
              "\n",
              "  <script>\n",
              "    async function quickchart(key) {\n",
              "      const quickchartButtonEl =\n",
              "        document.querySelector('#' + key + ' button');\n",
              "      quickchartButtonEl.disabled = true;  // To prevent multiple clicks.\n",
              "      quickchartButtonEl.classList.add('colab-df-spinner');\n",
              "      try {\n",
              "        const charts = await google.colab.kernel.invokeFunction(\n",
              "            'suggestCharts', [key], {});\n",
              "      } catch (error) {\n",
              "        console.error('Error during call to suggestCharts:', error);\n",
              "      }\n",
              "      quickchartButtonEl.classList.remove('colab-df-spinner');\n",
              "      quickchartButtonEl.classList.add('colab-df-quickchart-complete');\n",
              "    }\n",
              "    (() => {\n",
              "      let quickchartButtonEl =\n",
              "        document.querySelector('#df-e4ac527a-599b-40de-9a07-ae793bfe37e1 button');\n",
              "      quickchartButtonEl.style.display =\n",
              "        google.colab.kernel.accessAllowed ? 'block' : 'none';\n",
              "    })();\n",
              "  </script>\n",
              "</div>\n",
              "\n",
              "    </div>\n",
              "  </div>\n"
            ],
            "application/vnd.google.colaboratory.intrinsic+json": {
              "type": "dataframe"
            }
          },
          "metadata": {},
          "execution_count": 130
        }
      ]
    },
    {
      "cell_type": "code",
      "source": [
        "data.info()"
      ],
      "metadata": {
        "colab": {
          "base_uri": "https://localhost:8080/"
        },
        "collapsed": true,
        "id": "h7NVErpltmW_",
        "outputId": "cb3b765b-a23e-4dad-aeaa-9ad58aa1916e"
      },
      "execution_count": null,
      "outputs": [
        {
          "output_type": "stream",
          "name": "stdout",
          "text": [
            "<class 'pandas.core.frame.DataFrame'>\n",
            "RangeIndex: 2930 entries, 0 to 2929\n",
            "Data columns (total 81 columns):\n",
            " #   Column              Non-Null Count  Dtype  \n",
            "---  ------              --------------  -----  \n",
            " 0   MS_SubClass         2930 non-null   object \n",
            " 1   MS_Zoning           2930 non-null   object \n",
            " 2   Lot_Frontage        2930 non-null   int64  \n",
            " 3   Lot_Area            2930 non-null   int64  \n",
            " 4   Street              2930 non-null   object \n",
            " 5   Alley               2930 non-null   object \n",
            " 6   Lot_Shape           2930 non-null   object \n",
            " 7   Land_Contour        2930 non-null   object \n",
            " 8   Utilities           2930 non-null   object \n",
            " 9   Lot_Config          2930 non-null   object \n",
            " 10  Land_Slope          2930 non-null   object \n",
            " 11  Neighborhood        2930 non-null   object \n",
            " 12  Condition_1         2930 non-null   object \n",
            " 13  Condition_2         2930 non-null   object \n",
            " 14  Bldg_Type           2930 non-null   object \n",
            " 15  House_Style         2930 non-null   object \n",
            " 16  Overall_Qual        2930 non-null   object \n",
            " 17  Overall_Cond        2930 non-null   object \n",
            " 18  Year_Built          2930 non-null   int64  \n",
            " 19  Year_Remod_Add      2930 non-null   int64  \n",
            " 20  Roof_Style          2930 non-null   object \n",
            " 21  Roof_Matl           2930 non-null   object \n",
            " 22  Exterior_1st        2930 non-null   object \n",
            " 23  Exterior_2nd        2930 non-null   object \n",
            " 24  Mas_Vnr_Type        1155 non-null   object \n",
            " 25  Mas_Vnr_Area        2930 non-null   int64  \n",
            " 26  Exter_Qual          2930 non-null   object \n",
            " 27  Exter_Cond          2930 non-null   object \n",
            " 28  Foundation          2930 non-null   object \n",
            " 29  Bsmt_Qual           2930 non-null   object \n",
            " 30  Bsmt_Cond           2930 non-null   object \n",
            " 31  Bsmt_Exposure       2930 non-null   object \n",
            " 32  BsmtFin_Type_1      2930 non-null   object \n",
            " 33  BsmtFin_SF_1        2930 non-null   int64  \n",
            " 34  BsmtFin_Type_2      2930 non-null   object \n",
            " 35  BsmtFin_SF_2        2930 non-null   int64  \n",
            " 36  Bsmt_Unf_SF         2930 non-null   int64  \n",
            " 37  Total_Bsmt_SF       2930 non-null   int64  \n",
            " 38  Heating             2930 non-null   object \n",
            " 39  Heating_QC          2930 non-null   object \n",
            " 40  Central_Air         2930 non-null   object \n",
            " 41  Electrical          2930 non-null   object \n",
            " 42  First_Flr_SF        2930 non-null   int64  \n",
            " 43  Second_Flr_SF       2930 non-null   int64  \n",
            " 44  Low_Qual_Fin_SF     2930 non-null   int64  \n",
            " 45  Gr_Liv_Area         2930 non-null   int64  \n",
            " 46  Bsmt_Full_Bath      2930 non-null   int64  \n",
            " 47  Bsmt_Half_Bath      2930 non-null   int64  \n",
            " 48  Full_Bath           2930 non-null   int64  \n",
            " 49  Half_Bath           2930 non-null   int64  \n",
            " 50  Bedroom_AbvGr       2930 non-null   int64  \n",
            " 51  Kitchen_AbvGr       2930 non-null   int64  \n",
            " 52  Kitchen_Qual        2930 non-null   object \n",
            " 53  TotRms_AbvGrd       2930 non-null   int64  \n",
            " 54  Functional          2930 non-null   object \n",
            " 55  Fireplaces          2930 non-null   int64  \n",
            " 56  Fireplace_Qu        2930 non-null   object \n",
            " 57  Garage_Type         2930 non-null   object \n",
            " 58  Garage_Finish       2930 non-null   object \n",
            " 59  Garage_Cars         2930 non-null   int64  \n",
            " 60  Garage_Area         2930 non-null   int64  \n",
            " 61  Garage_Qual         2930 non-null   object \n",
            " 62  Garage_Cond         2930 non-null   object \n",
            " 63  Paved_Drive         2930 non-null   object \n",
            " 64  Wood_Deck_SF        2930 non-null   int64  \n",
            " 65  Open_Porch_SF       2930 non-null   int64  \n",
            " 66  Enclosed_Porch      2930 non-null   int64  \n",
            " 67  Three_season_porch  2930 non-null   int64  \n",
            " 68  Screen_Porch        2930 non-null   int64  \n",
            " 69  Pool_Area           2930 non-null   int64  \n",
            " 70  Pool_QC             2930 non-null   object \n",
            " 71  Fence               2930 non-null   object \n",
            " 72  Misc_Feature        106 non-null    object \n",
            " 73  Misc_Val            2930 non-null   int64  \n",
            " 74  Mo_Sold             2930 non-null   int64  \n",
            " 75  Year_Sold           2930 non-null   int64  \n",
            " 76  Sale_Type           2930 non-null   object \n",
            " 77  Sale_Condition      2930 non-null   object \n",
            " 78  Sale_Price          2930 non-null   int64  \n",
            " 79  Longitude           2930 non-null   float64\n",
            " 80  Latitude            2930 non-null   float64\n",
            "dtypes: float64(2), int64(33), object(46)\n",
            "memory usage: 1.8+ MB\n"
          ]
        }
      ]
    },
    {
      "cell_type": "code",
      "source": [
        "from sklearn.model_selection import train_test_split\n",
        "\n",
        "target_column = \"Sale_Price\"\n",
        "np.random.seed(seed)\n",
        "\n",
        "test_size = 0.2\n",
        "data_train, data_test, Y_train, Y_test = train_test_split(\n",
        "    data[data.columns.drop(\"Sale_Price\")],\n",
        "    np.array(data[\"Sale_Price\"]),\n",
        "    test_size=test_size,\n",
        "    random_state=seed)\n",
        "\n",
        "print(f\"Train : {data_train.shape} {Y_train.shape}\")\n",
        "print(f\"Test : {data_test.shape} {Y_test.shape}\")"
      ],
      "metadata": {
        "colab": {
          "base_uri": "https://localhost:8080/"
        },
        "id": "d2WZRhOxtvHu",
        "outputId": "71f3371a-72e0-4899-c338-2193c4476bd7"
      },
      "execution_count": null,
      "outputs": [
        {
          "output_type": "stream",
          "name": "stdout",
          "text": [
            "Train : (2344, 80) (2344,)\n",
            "Test : (586, 80) (586,)\n"
          ]
        }
      ]
    },
    {
      "cell_type": "code",
      "source": [
        "continuous_columns = [key for key in data.keys() if data[key].dtype in (\"int64\", \"float64\")]\n",
        "categorical_columns = [key for key in data.keys() if data[key].dtype == \"object\"]\n",
        "\n",
        "continuous_columns.remove(target_column)\n",
        "\n",
        "print(f\"Continuous : {len(continuous_columns)}, Categorical : {len(categorical_columns)}\")\n",
        "print(continuous_columns)"
      ],
      "metadata": {
        "colab": {
          "base_uri": "https://localhost:8080/"
        },
        "id": "DZCSxsV4uRlL",
        "outputId": "2d9b67b1-4b04-4ab0-95a5-2ff6be34fd50"
      },
      "execution_count": null,
      "outputs": [
        {
          "output_type": "stream",
          "name": "stdout",
          "text": [
            "Continuous : 34, Categorical : 46\n",
            "['Lot_Frontage', 'Lot_Area', 'Year_Built', 'Year_Remod_Add', 'Mas_Vnr_Area', 'BsmtFin_SF_1', 'BsmtFin_SF_2', 'Bsmt_Unf_SF', 'Total_Bsmt_SF', 'First_Flr_SF', 'Second_Flr_SF', 'Low_Qual_Fin_SF', 'Gr_Liv_Area', 'Bsmt_Full_Bath', 'Bsmt_Half_Bath', 'Full_Bath', 'Half_Bath', 'Bedroom_AbvGr', 'Kitchen_AbvGr', 'TotRms_AbvGrd', 'Fireplaces', 'Garage_Cars', 'Garage_Area', 'Wood_Deck_SF', 'Open_Porch_SF', 'Enclosed_Porch', 'Three_season_porch', 'Screen_Porch', 'Pool_Area', 'Misc_Val', 'Mo_Sold', 'Year_Sold', 'Longitude', 'Latitude']\n"
          ]
        }
      ]
    },
    {
      "cell_type": "code",
      "source": [
        "# @title предобработка\n",
        "\n",
        "from sklearn.preprocessing import StandardScaler  # нормализация фичей\n",
        "from sklearn.base import TransformerMixin\n",
        "\n",
        "class BaseDataPreprocessor(TransformerMixin):\n",
        "\n",
        "    def __init__(self, needed_columns: Optional[List[str]]=None):\n",
        "        \"\"\"\n",
        "        :param needed_columns: if not None select these columns from the dataframe\n",
        "        \"\"\"\n",
        "        self.scaler = StandardScaler()\n",
        "        self.needed_columns = needed_columns.copy()\n",
        "\n",
        "\n",
        "    def fit(self, data, *args):\n",
        "        \"\"\"\n",
        "        Prepares the class for future transformations\n",
        "        :param data: pd.DataFrame with all available columns\n",
        "        :return: self\n",
        "        \"\"\"\n",
        "        fit_data = data.copy()\n",
        "\n",
        "        if self.needed_columns != None:\n",
        "          fit_data = fit_data[self.needed_columns]\n",
        "\n",
        "        self.scaler.fit(fit_data)\n",
        "\n",
        "        return self\n",
        "\n",
        "    def transform(self, data: pd.DataFrame) -> np.array:\n",
        "        \"\"\"\n",
        "        Transforms features so that they can be fed into the regressors\n",
        "        :param data: pd.DataFrame with all available columns\n",
        "        :return: np.array with preprocessed features\n",
        "        \"\"\"\n",
        "        trans_data = data.copy()\n",
        "\n",
        "        if self.needed_columns != None:\n",
        "          trans_data = trans_data[self.needed_columns]\n",
        "\n",
        "        return np.array(self.scaler.transform(trans_data))"
      ],
      "metadata": {
        "id": "bhKFOlDxwOcC"
      },
      "execution_count": null,
      "outputs": []
    },
    {
      "cell_type": "code",
      "source": [
        "preprocessor = BaseDataPreprocessor(needed_columns=continuous_columns)\n",
        "\n",
        "X_train = preprocessor.fit_transform(data_train)\n",
        "print(X_train)\n",
        "print('\\n')\n",
        "X_test = preprocessor.transform(data_test)\n",
        "print(X_test)"
      ],
      "metadata": {
        "colab": {
          "base_uri": "https://localhost:8080/"
        },
        "collapsed": true,
        "id": "1ZqmRlg-yrwm",
        "outputId": "e3e06593-6702-4b97-b72a-ed7bcdf5c2cf"
      },
      "execution_count": null,
      "outputs": [
        {
          "output_type": "stream",
          "name": "stdout",
          "text": [
            "[[ 0.72781797  0.10999732  0.65825008 ...  0.91897402  1.59953221\n",
            "  -2.10399441]\n",
            " [ 0.28278084  0.3792301   1.09413674 ...  1.67878887 -0.03026421\n",
            "   1.46544646]\n",
            " [ 0.63881055 -0.1507842  -0.4147017  ... -1.36047053  1.4104223\n",
            "   0.21280896]\n",
            " ...\n",
            " [ 0.52013398  0.4287303  -0.71646938 ... -0.60065568  0.65006975\n",
            "  -0.71551757]\n",
            " [ 0.22344256  0.09261189 -0.4147017  ...  0.91897402 -0.82561363\n",
            "  -0.89443458]\n",
            " [ 0.22344256 -0.36327285 -0.14646375 ...  0.91897402  0.69254025\n",
            "   0.78026581]]\n",
            "\n",
            "\n",
            "[[ 0.2531117   0.42691932  1.09413674 ...  0.15915917 -1.85699633\n",
            "   0.17491808]\n",
            " [-1.70505166  0.41629488  0.49060136 ...  0.91897402 -0.06109778\n",
            "  -1.30850436]\n",
            " [ 0.07509685 -0.12253287 -1.89001039 ...  0.15915917  0.69506797\n",
            "  -0.34550822]\n",
            " ...\n",
            " [ 0.66847969  0.38937161 -0.07940427 ... -1.36047053  1.67720305\n",
            "  -2.34193166]\n",
            " [ 0.37178827 -0.21235762  0.28942291 ...  1.67878887 -1.63270955\n",
            "   0.00413614]\n",
            " [ 0.16410428 -0.27574202  1.06060699 ... -1.36047053  0.12096894\n",
            "   1.39070206]]\n"
          ]
        }
      ]
    },
    {
      "cell_type": "code",
      "source": [
        "print(len(X_train))\n",
        "print(len(X_train[0]))"
      ],
      "metadata": {
        "colab": {
          "base_uri": "https://localhost:8080/"
        },
        "id": "1mXwi231Kgpi",
        "outputId": "1a2cef7e-01b3-4bee-8995-14ae19ad6cc3"
      },
      "execution_count": null,
      "outputs": [
        {
          "output_type": "stream",
          "name": "stdout",
          "text": [
            "2344\n",
            "34\n"
          ]
        }
      ]
    },
    {
      "cell_type": "code",
      "source": [
        "# @title Линейная регрессия\n",
        "\n",
        "from sklearn.linear_model import LinearRegression\n",
        "from sklearn.metrics import mean_absolute_error\n",
        "\n",
        "Regression = LinearRegression()\n",
        "Regression.fit(X_train, Y_train)\n",
        "answer_LR = Regression.predict(X_test)\n",
        "print(mean_absolute_error(Y_test, answer_LR))"
      ],
      "metadata": {
        "colab": {
          "base_uri": "https://localhost:8080/"
        },
        "id": "U_N8l9-_86B5",
        "outputId": "83e33ffc-cef2-44f3-da14-d4b8ef4392b9"
      },
      "execution_count": null,
      "outputs": [
        {
          "output_type": "stream",
          "name": "stdout",
          "text": [
            "23822.696518655215\n"
          ]
        }
      ]
    },
    {
      "cell_type": "code",
      "source": [
        "# @title линейная регрессия с L2 регуляризацией\n",
        "\n",
        "from sklearn.linear_model import Ridge\n",
        "\n",
        "Regression = Ridge(25)\n",
        "Regression.fit(X_train, Y_train)\n",
        "answer_L2 = Regression.predict(X_test)\n",
        "print(mean_absolute_error(Y_test, answer_L2))"
      ],
      "metadata": {
        "colab": {
          "base_uri": "https://localhost:8080/"
        },
        "id": "u-sRp-68BWjk",
        "outputId": "2b56a425-08b8-4f34-b16a-fe3629dd3397"
      },
      "execution_count": null,
      "outputs": [
        {
          "output_type": "stream",
          "name": "stdout",
          "text": [
            "23812.476963044173\n"
          ]
        }
      ]
    },
    {
      "cell_type": "code",
      "source": [
        "# @title линейная регрессия с L1 регуляризацией\n",
        "\n",
        "from sklearn.linear_model import Lasso\n",
        "\n",
        "Regression = Lasso(1000)\n",
        "Regression.fit(X_train, Y_train)\n",
        "answer_L1 = Regression.predict(X_test)\n",
        "print(mean_absolute_error(Y_test, answer_L1))"
      ],
      "metadata": {
        "colab": {
          "base_uri": "https://localhost:8080/"
        },
        "id": "OZh4qqIYDNHh",
        "outputId": "ffb1e337-b74b-4ee4-dc16-8dbf916c8826"
      },
      "execution_count": null,
      "outputs": [
        {
          "output_type": "stream",
          "name": "stdout",
          "text": [
            "23743.597350572974\n"
          ]
        }
      ]
    },
    {
      "cell_type": "code",
      "source": [
        "# @title метрика\n",
        "\n",
        "def root_mean_squared_logarithmic_error(y_true, y_pred, a_min=1.):\n",
        "  sum = 0\n",
        "  N = 0\n",
        "\n",
        "  for y_i, y_i_predict in zip(y_true, y_pred):\n",
        "    if y_i < 0:\n",
        "      raise ValueError\n",
        "    sum += (np.log(y_i) - np.log(max(y_i_predict, a_min))) ** 2\n",
        "    N += 1\n",
        "  return np.sqrt(sum / N)\n",
        "\n",
        "print(root_mean_squared_logarithmic_error(Y_test, answer_LR))\n",
        "print(root_mean_squared_logarithmic_error(Y_test, answer_L2))\n",
        "print(root_mean_squared_logarithmic_error(Y_test, answer_L1))"
      ],
      "metadata": {
        "colab": {
          "base_uri": "https://localhost:8080/"
        },
        "id": "6NWCdDjQEOWV",
        "outputId": "f252179a-2bad-4b33-e7c5-2cffac74e331"
      },
      "execution_count": null,
      "outputs": [
        {
          "output_type": "stream",
          "name": "stdout",
          "text": [
            "0.19504167069334188\n",
            "0.1942464535080755\n",
            "0.1903084476776101\n"
          ]
        }
      ]
    },
    {
      "cell_type": "code",
      "source": [
        "# @title анализ таргета\n",
        "\n",
        "import matplotlib.pyplot as plt\n",
        "\n",
        "def plot_target_distribution(Y_train, Y_test, ax, n_bins=20):\n",
        "    ax.hist(Y_train, bins=n_bins, label=\"train\", color=\"red\", alpha=0.3, density=True)\n",
        "    ax.hist(Y_test, bins=n_bins, label=\"test\", color=\"blue\", alpha=0.3, density=True)\n",
        "\n",
        "    ax.legend()\n",
        "    ax.set_xlabel(\"Value\")\n",
        "    ax.set_ylabel(\"Probability\")\n",
        "\n",
        "\n",
        "def plot_both_distributions(Y_train, Y_test):\n",
        "    fig, (ax0, ax1) = plt.subplots(ncols=2, nrows=1, figsize=(15, 6))\n",
        "\n",
        "    plot_target_distribution(Y_train, Y_test, ax=ax0)\n",
        "    ax0.set_title(\"Standard\")\n",
        "\n",
        "    plot_target_distribution(np.log(Y_train), np.log(Y_test), ax=ax1)\n",
        "    ax1.set_title(\"Logarithmic\")"
      ],
      "metadata": {
        "id": "y5cSfkak3yG1"
      },
      "execution_count": null,
      "outputs": []
    },
    {
      "cell_type": "code",
      "source": [
        "plot_both_distributions(Y_train, Y_test)"
      ],
      "metadata": {
        "colab": {
          "base_uri": "https://localhost:8080/",
          "height": 302
        },
        "id": "Lvzqwguv71m_",
        "outputId": "945866e0-785a-4b13-fa1f-87fa47fea651"
      },
      "execution_count": null,
      "outputs": [
        {
          "output_type": "display_data",
          "data": {
            "text/plain": [
              "<Figure size 1500x600 with 2 Axes>"
            ],
            "image/png": "[encoded data removed]"
          },
          "metadata": {}
        }
      ]
    },
    {
      "cell_type": "code",
      "source": [
        "# @title Ridge на логарифмированных данных\n",
        "\n",
        "from sklearn.base import RegressorMixin\n",
        "\n",
        "class ExponentialLinearRegression(RegressorMixin):\n",
        "\n",
        "    def __init__(self, *args, **kwargs):\n",
        "        self.params = kwargs\n",
        "        self.Ridge_Reg = Ridge(*args, **kwargs)\n",
        "\n",
        "    def fit(self, X, Y):\n",
        "        log_Y = [np.log(y) for y in Y]\n",
        "        self.Ridge_Reg.fit(X, log_Y)\n",
        "        return self\n",
        "\n",
        "    def predict(self, X):\n",
        "        answer = [np.exp(y) for y in self.Ridge_Reg.predict(X)]\n",
        "        return np.array(answer)\n",
        "\n",
        "    def get_params(self, deep=True):\n",
        "        params = self.Ridge_Reg.get_params(deep=deep)\n",
        "        return params\n",
        "\n",
        "    def set_params(self, **params):\n",
        "        self.Ridge_Reg.set_params(**params)\n",
        "        return self\n"
      ],
      "metadata": {
        "id": "v-tkgJ3J72ef"
      },
      "execution_count": null,
      "outputs": []
    },
    {
      "cell_type": "code",
      "source": [
        "classic_regressor = Ridge()\n",
        "exponential_regressor = ExponentialLinearRegression()\n",
        "classic_regressor.fit(X_train, Y_train)\n",
        "exponential_regressor.fit(X_train, Y_train)\n",
        "\n",
        "classic_prediction = classic_regressor.predict(X_test)\n",
        "exponential_prediction = exponential_regressor.predict(X_test)\n",
        "\n",
        "print(f\"MAE  : Classic : {mean_absolute_error(Y_test, classic_prediction)}  Exponential : {mean_absolute_error(Y_test, exponential_prediction)}\")\n",
        "print(f\"MSLE : Classic : {root_mean_squared_logarithmic_error(Y_test, classic_prediction)} Exponential : {root_mean_squared_logarithmic_error(Y_test, exponential_prediction)}\")"
      ],
      "metadata": {
        "colab": {
          "base_uri": "https://localhost:8080/"
        },
        "id": "06i9Hf1Jm05c",
        "outputId": "a1bd3cf3-1756-492c-f163-1ea67232f9dd"
      },
      "execution_count": null,
      "outputs": [
        {
          "output_type": "stream",
          "name": "stdout",
          "text": [
            "MAE  : Classic : 23821.97776100681  Exponential : 26818.699786544395\n",
            "MSLE : Classic : 0.19500621233281323 Exponential : 0.2160102771618544\n"
          ]
        }
      ]
    },
    {
      "cell_type": "code",
      "source": [
        "# @title CrossValidation\n",
        "\n",
        "from sklearn.model_selection import cross_val_score\n",
        "from sklearn.model_selection import KFold\n",
        "from sklearn.metrics import make_scorer\n",
        "\n",
        "cv=KFold(n_splits=5, shuffle=True, random_state=42)\n",
        "X_cv = np.vstack([X_train, X_test])\n",
        "Y_cv = np.concatenate([Y_train, Y_test])\n",
        "\n",
        "print(cross_val_score(classic_regressor, X_cv, Y_cv, scoring=make_scorer(mean_absolute_error), cv=cv).mean())\n",
        "print(cross_val_score(exponential_regressor, X_cv, Y_cv, scoring=make_scorer(mean_absolute_error), cv=cv).mean())\n"
      ],
      "metadata": {
        "colab": {
          "base_uri": "https://localhost:8080/"
        },
        "id": "qv6o8qFP1ALE",
        "outputId": "2808618b-a5a5-44a3-99e2-535ed3ebb1fd"
      },
      "execution_count": null,
      "outputs": [
        {
          "output_type": "stream",
          "name": "stdout",
          "text": [
            "23225.28194530271\n",
            "21166.68153775273\n"
          ]
        }
      ]
    },
    {
      "cell_type": "code",
      "source": [
        "# @title нахождение оптимального гиперпараметра с помощью GridSearchCV\n",
        "\n",
        "from sklearn.model_selection import GridSearchCV\n",
        "\n",
        "rgr = GridSearchCV(exponential_regressor, param_grid={'alpha': np.logspace(-3, 3, num=7, base=10.)}, scoring=make_scorer(root_mean_squared_logarithmic_error, greater_is_better=False), cv=5)\n",
        "result = rgr.fit(X_train, Y_train).cv_results_\n",
        "print(result, '\\n')\n",
        "number = list(result['rank_test_score']).index(1)\n",
        "print('answer: ', result['params'][number], f\"number: {number + 1}\")"
      ],
      "metadata": {
        "colab": {
          "base_uri": "https://localhost:8080/"
        },
        "id": "mGXzgPxuKbkX",
        "outputId": "729ba19a-6ea7-4b0f-b6f6-bbe6613796a9"
      },
      "execution_count": null,
      "outputs": [
        {
          "output_type": "stream",
          "name": "stdout",
          "text": [
            "{'mean_fit_time': array([0.01734486, 0.0198525 , 0.07675843, 0.05429974, 0.02154331,\n",
            "       0.01817169, 0.04896412]), 'std_fit_time': array([0.00786263, 0.00592455, 0.05166878, 0.03883043, 0.00837913,\n",
            "       0.00807643, 0.04826434]), 'mean_score_time': array([0.00416064, 0.0041584 , 0.00904875, 0.00625491, 0.00943794,\n",
            "       0.01029472, 0.00576739]), 'std_score_time': array([5.66102311e-05, 5.58831179e-05, 3.90059960e-03, 2.79895163e-03,\n",
            "       4.31988593e-03, 1.14894044e-03, 3.00108927e-03]), 'param_alpha': masked_array(data=[0.001, 0.01, 0.1, 1.0, 10.0, 100.0, 1000.0],\n",
            "             mask=[False, False, False, False, False, False, False],\n",
            "       fill_value=1e+20), 'params': [{'alpha': np.float64(0.001)}, {'alpha': np.float64(0.01)}, {'alpha': np.float64(0.1)}, {'alpha': np.float64(1.0)}, {'alpha': np.float64(10.0)}, {'alpha': np.float64(100.0)}, {'alpha': np.float64(1000.0)}], 'split0_test_score': array([-0.17408353, -0.17408362, -0.17408446, -0.17409295, -0.17418306,\n",
            "       -0.17534258, -0.18662404]), 'split1_test_score': array([-0.1751294 , -0.17512902, -0.17512518, -0.17508699, -0.17472214,\n",
            "       -0.17221154, -0.16913393]), 'split2_test_score': array([-0.17816209, -0.17816212, -0.17816243, -0.17816552, -0.17820185,\n",
            "       -0.17886962, -0.18771847]), 'split3_test_score': array([-0.15046589, -0.15046595, -0.15046656, -0.15047266, -0.15053736,\n",
            "       -0.15140152, -0.16204343]), 'split4_test_score': array([-0.14850281, -0.14850283, -0.14850306, -0.14850535, -0.14853124,\n",
            "       -0.14896407, -0.15549124]), 'mean_test_score': array([-0.16526875, -0.16526871, -0.16526834, -0.16526469, -0.16523513,\n",
            "       -0.16535787, -0.17220222]), 'std_test_score': array([0.01297222, 0.01297216, 0.01297155, 0.01296555, 0.01290929,\n",
            "       0.01259183, 0.01296623]), 'rank_test_score': array([5, 4, 3, 2, 1, 6, 7], dtype=int32)} \n",
            "\n",
            "answer:  {'alpha': np.float64(10.0)} number: 5\n"
          ]
        }
      ]
    },
    {
      "cell_type": "code",
      "source": [
        "# @title самописная линейная регрессия\n",
        "from sklearn.utils import shuffle\n",
        "\n",
        "class SGDLinearRegressor(RegressorMixin):\n",
        "    def __init__(self,\n",
        "                 lr=0.01, regularization=1., delta_converged=1e-5, max_steps=1000,\n",
        "                 batch_size=64):\n",
        "\n",
        "        self.lr = lr\n",
        "        self.regularization = regularization\n",
        "        self.max_steps = max_steps\n",
        "        self.delta_converged = delta_converged\n",
        "        self.batch_size = batch_size\n",
        "\n",
        "        self.W = None\n",
        "        self.b = None\n",
        "\n",
        "    def fit(self, X_fit, Y_fit):\n",
        "\n",
        "        W_0 = np.full(len(X_fit[0]), 0)\n",
        "        b_0 = 0\n",
        "        counter = 0\n",
        "\n",
        "        while True:\n",
        "            idx = np.random.choice(np.arange(len(X_fit)), self.batch_size, replace=False)\n",
        "            counter += 1\n",
        "            X = X_fit[idx]\n",
        "            Y = Y_fit[idx]\n",
        "            Y_p = np.dot(X, W_0) + b_0\n",
        "            L_b = 2 * np.sum(Y_p - Y) / self.batch_size\n",
        "            L_w = 2 * np.dot(X.T, (Y_p - Y)) / self.batch_size + 2 * self.regularization * W_0\n",
        "\n",
        "            W_0 = W_0 - self.lr * L_w\n",
        "            b_0 = b_0 - self.lr * L_b\n",
        "\n",
        "            if np.linalg.norm(self.lr * L_w) < self.delta_converged or counter == self.max_steps:\n",
        "                self.b = b_0\n",
        "                self.W = W_0\n",
        "                break\n",
        "\n",
        "        return self\n",
        "\n",
        "    def predict(self, X):\n",
        "        answer = np.dot(X, self.W) + self.b\n",
        "        return np.array(answer)"
      ],
      "metadata": {
        "id": "fMu7u_l3OeVd"
      },
      "execution_count": null,
      "outputs": []
    },
    {
      "cell_type": "code",
      "source": [
        "model = SGDLinearRegressor()\n",
        "model.fit(X_train, Y_train)\n",
        "\n",
        "prediction = model.predict(X_test)\n",
        "print(Y_test.shape, prediction.shape)\n",
        "print(\"MAE : \", mean_absolute_error(Y_test, prediction))\n",
        "print(\"Mean log : \", root_mean_squared_logarithmic_error(Y_test, prediction))"
      ],
      "metadata": {
        "colab": {
          "base_uri": "https://localhost:8080/"
        },
        "id": "LzLhgp4RckCA",
        "outputId": "b58767d2-6c71-4e46-d843-f1b282f738a0"
      },
      "execution_count": null,
      "outputs": [
        {
          "output_type": "stream",
          "name": "stdout",
          "text": [
            "(586,) (586,)\n",
            "MAE :  25964.567465400323\n",
            "Mean log :  0.18971799715261356\n"
          ]
        }
      ]
    },
    {
      "cell_type": "code",
      "source": [
        "# @title OneHotEncoding\n",
        "from sklearn.preprocessing import OneHotEncoder\n",
        "\n",
        "interesting_columns = [\"Overall_Qual\", \"Garage_Qual\", \"Sale_Condition\", \"MS_Zoning\"]\n",
        "\n",
        "class OneHotPreprocessor(BaseDataPreprocessor):\n",
        "\n",
        "    def __init__(self, **kwargs):\n",
        "        super().__init__(kwargs['needed_columns'])\n",
        "        self.enc = OneHotEncoder(handle_unknown='ignore', drop='first')\n",
        "        self.interesting_columns = kwargs['interesting_columns']\n",
        "        ## <YOUR CODE HERE>\n",
        "\n",
        "    def fit(self, data, *args):\n",
        "        ## <YOUR CODE HERE>\n",
        "        super().fit(data)\n",
        "        if self.interesting_columns != None:\n",
        "            self.enc.fit(data[self.interesting_columns])\n",
        "        return self\n",
        "    def transform(self, data):\n",
        "        ## <YOUR CODE HERE>\n",
        "        cont = super().transform(data)\n",
        "\n",
        "        if self.interesting_columns != None:\n",
        "          cat = self.enc.transform(data[self.interesting_columns]).toarray()\n",
        "          cont = np.hstack((cont, cat))\n",
        "\n",
        "        return cont"
      ],
      "metadata": {
        "id": "84fZnwmqjDU8"
      },
      "execution_count": null,
      "outputs": []
    },
    {
      "cell_type": "code",
      "source": [
        "preprocessor = OneHotPreprocessor(needed_columns=continuous_columns,\n",
        "                                  interesting_columns=interesting_columns)\n",
        "\n",
        "X_train = preprocessor.fit_transform(data_train)\n",
        "print(X_train)\n",
        "print('\\n')\n",
        "X_test = preprocessor.transform(data_test)\n",
        "print(X_test)"
      ],
      "metadata": {
        "colab": {
          "base_uri": "https://localhost:8080/"
        },
        "id": "GVx_gPh4yKi3",
        "outputId": "cd540b3c-e709-4d0c-b9d4-668dc8869b89"
      },
      "execution_count": null,
      "outputs": [
        {
          "output_type": "stream",
          "name": "stdout",
          "text": [
            "[[ 0.72781797  0.10999732  0.65825008 ...  0.          1.\n",
            "   0.        ]\n",
            " [ 0.28278084  0.3792301   1.09413674 ...  0.          1.\n",
            "   0.        ]\n",
            " [ 0.63881055 -0.1507842  -0.4147017  ...  0.          1.\n",
            "   0.        ]\n",
            " ...\n",
            " [ 0.52013398  0.4287303  -0.71646938 ...  0.          0.\n",
            "   1.        ]\n",
            " [ 0.22344256  0.09261189 -0.4147017  ...  0.          1.\n",
            "   0.        ]\n",
            " [ 0.22344256 -0.36327285 -0.14646375 ...  0.          1.\n",
            "   0.        ]]\n",
            "\n",
            "\n",
            "[[ 0.2531117   0.42691932  1.09413674 ...  0.          1.\n",
            "   0.        ]\n",
            " [-1.70505166  0.41629488  0.49060136 ...  0.          1.\n",
            "   0.        ]\n",
            " [ 0.07509685 -0.12253287 -1.89001039 ...  0.          1.\n",
            "   0.        ]\n",
            " ...\n",
            " [ 0.66847969  0.38937161 -0.07940427 ...  0.          1.\n",
            "   0.        ]\n",
            " [ 0.37178827 -0.21235762  0.28942291 ...  0.          1.\n",
            "   0.        ]\n",
            " [ 0.16410428 -0.27574202  1.06060699 ...  0.          1.\n",
            "   0.        ]]\n"
          ]
        }
      ]
    },
    {
      "cell_type": "code",
      "source": [
        "# @title модель-пайплайн\n",
        "from sklearn.pipeline import Pipeline\n",
        "\n",
        "def make_ultimate_pipeline():\n",
        "    pipe = Pipeline([('preprocessor', OneHotPreprocessor(needed_columns=continuous_columns,\n",
        "                                                         interesting_columns=interesting_columns)),\n",
        "                     ('lin_reg_L2', Ridge())])\n",
        "    return pipe\n"
      ],
      "metadata": {
        "id": "Jq5KUdhmf-Dq"
      },
      "execution_count": null,
      "outputs": []
    },
    {
      "cell_type": "code",
      "source": [
        "a = make_ultimate_pipeline()\n",
        "print(a.fit(data_train, Y_train).score(data_test, Y_test))"
      ],
      "metadata": {
        "colab": {
          "base_uri": "https://localhost:8080/"
        },
        "id": "9uB9Sd2ANEIf",
        "outputId": "99a3c5cc-24b8-4907-b4b9-8cd83c250ffa"
      },
      "execution_count": null,
      "outputs": [
        {
          "output_type": "stream",
          "name": "stdout",
          "text": [
            "0.6926464644540256\n"
          ]
        }
      ]
    }
  ]
}